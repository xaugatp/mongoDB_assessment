{
 "cells": [
  {
   "cell_type": "code",
   "execution_count": 1,
   "metadata": {},
   "outputs": [],
   "source": [
    "#Q1. What is MongoDB? Explain non-relational databases in short. In which\n",
    "# scenarios it is preferred to useMongoDB over SQL databases?"
   ]
  },
  {
   "cell_type": "code",
   "execution_count": 2,
   "metadata": {},
   "outputs": [
    {
     "data": {
      "text/plain": [
       "' \\nMongoDB is a popular open-source NoSQL database management system that is \\ndesigned to handle large volumes of unstructured or semi-structured data. \\nIt belongs to the category of non-relational databases and is classified as a \\ndocument-oriented database. MongoDB stores data in flexible, JSON-like \\ndocuments called BSON (Binary JSON), allowing for a dynamic and schema-less \\ndata model.\\n\\n\\nNon-Relational Databases:\\nNon-relational databases, often referred to as NoSQL databases, provide a flexible and scalable alternative to traditional relational databases (SQL databases). Unlike relational databases, which use a structured schema and tables with predefined relationships, non-relational databases can store and retrieve data in various formats like key-value pairs, document-oriented, column-family, or graph databases. This flexibility makes them well-suited for handling large volumes of data with diverse structures and requirements.\\n\\n\\nScenarios for MongoDB over SQL:\\n\\nSchema Flexibility: MongoDB adapts easily to changing data structures.\\nHandling Unstructured Data: Well-suited for unstructured or semi-structured data.\\nScalability: Efficiently scales horizontally for managing large datasets.\\nAgile Development: Facilitates agile development and rapid prototyping.\\nBig Data and Real-time Applications: Suitable for real-time processing and analytics.\\nObject-Oriented Integration: Aligns well with object-oriented programming languages.\\n\\n'"
      ]
     },
     "execution_count": 2,
     "metadata": {},
     "output_type": "execute_result"
    }
   ],
   "source": [
    "''' \n",
    "MongoDB is a popular open-source NoSQL database management system that is \n",
    "designed to handle large volumes of unstructured or semi-structured data. \n",
    "It belongs to the category of non-relational databases and is classified as a \n",
    "document-oriented database. MongoDB stores data in flexible, JSON-like \n",
    "documents called BSON (Binary JSON), allowing for a dynamic and schema-less \n",
    "data model.\n",
    "\n",
    "\n",
    "Non-Relational Databases:\n",
    "Non-relational databases, often referred to as NoSQL databases, provide a flexible and scalable alternative to traditional relational databases (SQL databases). Unlike relational databases, which use a structured schema and tables with predefined relationships, non-relational databases can store and retrieve data in various formats like key-value pairs, document-oriented, column-family, or graph databases. This flexibility makes them well-suited for handling large volumes of data with diverse structures and requirements.\n",
    "\n",
    "\n",
    "Scenarios for MongoDB over SQL:\n",
    "\n",
    "Schema Flexibility: MongoDB adapts easily to changing data structures.\n",
    "Handling Unstructured Data: Well-suited for unstructured or semi-structured data.\n",
    "Scalability: Efficiently scales horizontally for managing large datasets.\n",
    "Agile Development: Facilitates agile development and rapid prototyping.\n",
    "Big Data and Real-time Applications: Suitable for real-time processing and analytics.\n",
    "Object-Oriented Integration: Aligns well with object-oriented programming languages.\n",
    "\n",
    "'''"
   ]
  },
  {
   "cell_type": "code",
   "execution_count": 3,
   "metadata": {},
   "outputs": [],
   "source": [
    "#Q2. State and Explain the features of MongoDB."
   ]
  },
  {
   "cell_type": "code",
   "execution_count": 4,
   "metadata": {},
   "outputs": [
    {
     "data": {
      "text/plain": [
       "'\\nFeatures of MongoDB:\\n\\nDocument-Oriented:\\n\\nMongoDB stores data in flexible, JSON-like BSON documents, allowing for a dynamic and schema-less data model.\\nNoSQL Database:\\n\\nBelongs to the NoSQL category, providing a non-relational approach to data storage and retrieval.\\nDynamic Schema:\\n\\nSupports dynamic schemas, enabling easy modification and adaptation of data structures without predefined schemas.\\nScalability:\\n\\nOffers horizontal scalability through sharding, distributing data across multiple servers to handle large datasets and increasing workload.\\nIndexing:\\n\\nSupports indexing for efficient query performance, including compound indexes and geospatial indexes.\\nAggregation Framework:\\n\\nProvides a powerful aggregation framework for performing data transformations and computations within the database.\\nAutomatic Sharding:\\n\\nAutomatically divides data across multiple servers to support scalability, balancing the load and improving performance.\\nReplication:\\n\\nSupports data replication for fault tolerance and high availability, allowing the creation of replica sets with multiple copies of data.\\nAd Hoc Queries:\\n\\nAllows for ad hoc queries, enabling users to query and analyze data in real-time.\\nGridFS:\\n\\nGridFS is a specification for storing and retrieving large files, such as images or videos, using MongoDB.\\nSecurity:\\n\\nProvides various security features, including authentication, authorization, and encryption, to protect data and ensure secure access.\\nSchema Validation:\\n\\nSupports schema validation, allowing users to enforce data integrity rules at the database level.\\nAtomic Operations:\\n\\nSupports atomic operations on single documents, ensuring consistency and reliability.\\nMap-Reduce:\\n\\nAllows the use of Map-Reduce for batch processing and aggregation of large datasets.\\nGeospatial Indexing and Queries:\\n\\nProvides geospatial indexing and queries, making it suitable for location-based applications.\\nCapped Collections:\\n\\nSupports capped collections that have a fixed size, useful for creating logs or caches with a limited storage capacity. \\n'"
      ]
     },
     "execution_count": 4,
     "metadata": {},
     "output_type": "execute_result"
    }
   ],
   "source": [
    "'''\n",
    "Features of MongoDB:\n",
    "\n",
    "Document-Oriented:\n",
    "\n",
    "MongoDB stores data in flexible, JSON-like BSON documents, allowing for a dynamic and schema-less data model.\n",
    "NoSQL Database:\n",
    "\n",
    "Belongs to the NoSQL category, providing a non-relational approach to data storage and retrieval.\n",
    "Dynamic Schema:\n",
    "\n",
    "Supports dynamic schemas, enabling easy modification and adaptation of data structures without predefined schemas.\n",
    "Scalability:\n",
    "\n",
    "Offers horizontal scalability through sharding, distributing data across multiple servers to handle large datasets and increasing workload.\n",
    "Indexing:\n",
    "\n",
    "Supports indexing for efficient query performance, including compound indexes and geospatial indexes.\n",
    "Aggregation Framework:\n",
    "\n",
    "Provides a powerful aggregation framework for performing data transformations and computations within the database.\n",
    "Automatic Sharding:\n",
    "\n",
    "Automatically divides data across multiple servers to support scalability, balancing the load and improving performance.\n",
    "Replication:\n",
    "\n",
    "Supports data replication for fault tolerance and high availability, allowing the creation of replica sets with multiple copies of data.\n",
    "Ad Hoc Queries:\n",
    "\n",
    "Allows for ad hoc queries, enabling users to query and analyze data in real-time.\n",
    "GridFS:\n",
    "\n",
    "GridFS is a specification for storing and retrieving large files, such as images or videos, using MongoDB.\n",
    "Security:\n",
    "\n",
    "Provides various security features, including authentication, authorization, and encryption, to protect data and ensure secure access.\n",
    "Schema Validation:\n",
    "\n",
    "Supports schema validation, allowing users to enforce data integrity rules at the database level.\n",
    "Atomic Operations:\n",
    "\n",
    "Supports atomic operations on single documents, ensuring consistency and reliability.\n",
    "Map-Reduce:\n",
    "\n",
    "Allows the use of Map-Reduce for batch processing and aggregation of large datasets.\n",
    "Geospatial Indexing and Queries:\n",
    "\n",
    "Provides geospatial indexing and queries, making it suitable for location-based applications.\n",
    "Capped Collections:\n",
    "\n",
    "Supports capped collections that have a fixed size, useful for creating logs or caches with a limited storage capacity. \n",
    "'''"
   ]
  },
  {
   "cell_type": "code",
   "execution_count": 5,
   "metadata": {},
   "outputs": [],
   "source": [
    "#Q3. Write a code to connect MongoDB to Python. Also, create a database and a collection in MongoDB."
   ]
  },
  {
   "cell_type": "code",
   "execution_count": 7,
   "metadata": {},
   "outputs": [
    {
     "data": {
      "text/plain": [
       "'\\n!pip install pymongo\\n\\nimport pymongo\\n\\n# Replace these values with your MongoDB connection string and database name\\nmongo_uri = \"your_mongo_connection_string\"\\ndatabase_name = \"your_database_name\"\\n\\n# Connect to MongoDB\\nclient = pymongo.MongoClient(mongo_uri)\\n\\n# Access or create a database\\ndatabase = client[database_name]\\n\\n# Create a collection (if it doesn\\'t exist)\\ncollection_name = \"your_collection_name\"\\ncollection = database[collection_name]\\n\\n# Insert a document into the collection\\ndocument = {\"key\": \"value\", \"example\": \"data\"}\\ncollection.insert_one(document)\\n\\n# Print the document from the collection\\nresult = collection.find_one({\"key\": \"value\"})\\nprint(result)\\n\\n# Close the MongoDB connection\\nclient.close()'"
      ]
     },
     "execution_count": 7,
     "metadata": {},
     "output_type": "execute_result"
    }
   ],
   "source": [
    "'''\n",
    "!pip install pymongo\n",
    "\n",
    "import pymongo\n",
    "\n",
    "# Replace these values with your MongoDB connection string and database name\n",
    "mongo_uri = \"your_mongo_connection_string\"\n",
    "database_name = \"your_database_name\"\n",
    "\n",
    "# Connect to MongoDB\n",
    "client = pymongo.MongoClient(mongo_uri)\n",
    "\n",
    "# Access or create a database\n",
    "database = client[database_name]\n",
    "\n",
    "# Create a collection (if it doesn't exist)\n",
    "collection_name = \"your_collection_name\"\n",
    "collection = database[collection_name]\n",
    "\n",
    "# Insert a document into the collection\n",
    "document = {\"key\": \"value\", \"example\": \"data\"}\n",
    "collection.insert_one(document)\n",
    "\n",
    "# Print the document from the collection\n",
    "result = collection.find_one({\"key\": \"value\"})\n",
    "print(result)\n",
    "\n",
    "# Close the MongoDB connection\n",
    "client.close()'''\n"
   ]
  },
  {
   "cell_type": "code",
   "execution_count": null,
   "metadata": {},
   "outputs": [],
   "source": [
    "#Q4. Using the database and the collection created in question number 3, write a code to insert one record,\n",
    "#and insert many records. Use the find() and find_one() methods to print the inserted record."
   ]
  },
  {
   "cell_type": "code",
   "execution_count": 8,
   "metadata": {},
   "outputs": [
    {
     "data": {
      "text/plain": [
       "' \\nimport pymongo\\n\\n# Replace these values with your MongoDB connection string and database name\\nmongo_uri = \"your_mongo_connection_string\"\\ndatabase_name = \"your_database_name\"\\ncollection_name = \"your_collection_name\"\\n\\n# Connect to MongoDB\\nclient = pymongo.MongoClient(mongo_uri)\\n\\n# Access or create a database\\ndatabase = client[database_name]\\n\\n# Create a collection (if it doesn\\'t exist)\\ncollection = database[collection_name]\\n\\n# Insert one record\\none_record = {\"name\": \"John Doe\", \"age\": 30, \"city\": \"New York\"}\\nresult_one = collection.insert_one(one_record)\\nprint(f\"Inserted One Record - ID: {result_one.inserted_id}\")\\n\\n# Insert many records\\nmany_records = [\\n    {\"name\": \"Alice\", \"age\": 25, \"city\": \"San Francisco\"},\\n    {\"name\": \"Bob\", \"age\": 35, \"city\": \"Los Angeles\"},\\n    {\"name\": \"Charlie\", \"age\": 28, \"city\": \"Chicago\"}\\n]\\nresult_many = collection.insert_many(many_records)\\nprint(f\"Inserted Many Records - IDs: {result_many.inserted_ids}\")\\n\\n# Find and print one record\\nfound_one = collection.find_one({\"name\": \"John Doe\"})\\nprint(\"Found One Record:\")\\nprint(found_one)\\n\\n# Find and print all records\\nfound_all = collection.find()\\nprint(\"Found All Records:\")\\nfor record in found_all:\\n    print(record)\\n\\n# Close the MongoDB connection\\nclient.close()\\n\\n\\n'"
      ]
     },
     "execution_count": 8,
     "metadata": {},
     "output_type": "execute_result"
    }
   ],
   "source": [
    "''' \n",
    "import pymongo\n",
    "\n",
    "# Replace these values with your MongoDB connection string and database name\n",
    "mongo_uri = \"your_mongo_connection_string\"\n",
    "database_name = \"your_database_name\"\n",
    "collection_name = \"your_collection_name\"\n",
    "\n",
    "# Connect to MongoDB\n",
    "client = pymongo.MongoClient(mongo_uri)\n",
    "\n",
    "# Access or create a database\n",
    "database = client[database_name]\n",
    "\n",
    "# Create a collection (if it doesn't exist)\n",
    "collection = database[collection_name]\n",
    "\n",
    "# Insert one record\n",
    "one_record = {\"name\": \"John Doe\", \"age\": 30, \"city\": \"New York\"}\n",
    "result_one = collection.insert_one(one_record)\n",
    "print(f\"Inserted One Record - ID: {result_one.inserted_id}\")\n",
    "\n",
    "# Insert many records\n",
    "many_records = [\n",
    "    {\"name\": \"Alice\", \"age\": 25, \"city\": \"San Francisco\"},\n",
    "    {\"name\": \"Bob\", \"age\": 35, \"city\": \"Los Angeles\"},\n",
    "    {\"name\": \"Charlie\", \"age\": 28, \"city\": \"Chicago\"}\n",
    "]\n",
    "result_many = collection.insert_many(many_records)\n",
    "print(f\"Inserted Many Records - IDs: {result_many.inserted_ids}\")\n",
    "\n",
    "# Find and print one record\n",
    "found_one = collection.find_one({\"name\": \"John Doe\"})\n",
    "print(\"Found One Record:\")\n",
    "print(found_one)\n",
    "\n",
    "# Find and print all records\n",
    "found_all = collection.find()\n",
    "print(\"Found All Records:\")\n",
    "for record in found_all:\n",
    "    print(record)\n",
    "\n",
    "# Close the MongoDB connection\n",
    "client.close()\n",
    "\n",
    "\n",
    "'''"
   ]
  },
  {
   "cell_type": "code",
   "execution_count": 9,
   "metadata": {},
   "outputs": [],
   "source": [
    "#Q5. Explain how you can use the find() method to query the MongoDB database. Write a simple code to\n",
    "#demonstrate this."
   ]
  },
  {
   "cell_type": "code",
   "execution_count": 11,
   "metadata": {},
   "outputs": [
    {
     "data": {
      "text/plain": [
       "'  \\nimport pymongo\\n\\n# Replace these values with your MongoDB connection string and database name\\nmongo_uri = \"your_mongo_connection_string\"\\ndatabase_name = \"your_database_name\"\\ncollection_name = \"your_collection_name\"\\n\\n# Connect to MongoDB\\nclient = pymongo.MongoClient(mongo_uri)\\n\\n# Access or create a database\\ndatabase = client[database_name]\\n\\n# Create a collection (if it doesn\\'t exist)\\ncollection = database[collection_name]\\n\\n# Insert some sample data (if not already present)\\nsample_data = [\\n    {\"name\": \"John\", \"age\": 25, \"city\": \"New York\"},\\n    {\"name\": \"Alice\", \"age\": 30, \"city\": \"San Francisco\"},\\n    {\"name\": \"Bob\", \"age\": 35, \"city\": \"Los Angeles\"}\\n]\\ncollection.insert_many(sample_data)\\n\\n# Perform a find query\\nquery = {\"age\": {\"$gt\": 30}}  # Retrieve documents where age is greater than 30\\ncursor = collection.find(query)\\n\\n# Print the result\\nprint(\"Documents with age greater than 30:\")\\nfor document in cursor:\\n    print(document)\\n\\n# Close the MongoDB connection\\nclient.close()\\n\\n'"
      ]
     },
     "execution_count": 11,
     "metadata": {},
     "output_type": "execute_result"
    }
   ],
   "source": [
    "'''  \n",
    "import pymongo\n",
    "\n",
    "# Replace these values with your MongoDB connection string and database name\n",
    "mongo_uri = \"your_mongo_connection_string\"\n",
    "database_name = \"your_database_name\"\n",
    "collection_name = \"your_collection_name\"\n",
    "\n",
    "# Connect to MongoDB\n",
    "client = pymongo.MongoClient(mongo_uri)\n",
    "\n",
    "# Access or create a database\n",
    "database = client[database_name]\n",
    "\n",
    "# Create a collection (if it doesn't exist)\n",
    "collection = database[collection_name]\n",
    "\n",
    "# Insert some sample data (if not already present)\n",
    "sample_data = [\n",
    "    {\"name\": \"John\", \"age\": 25, \"city\": \"New York\"},\n",
    "    {\"name\": \"Alice\", \"age\": 30, \"city\": \"San Francisco\"},\n",
    "    {\"name\": \"Bob\", \"age\": 35, \"city\": \"Los Angeles\"}\n",
    "]\n",
    "collection.insert_many(sample_data)\n",
    "\n",
    "# Perform a find query\n",
    "query = {\"age\": {\"$gt\": 30}}  # Retrieve documents where age is greater than 30\n",
    "cursor = collection.find(query)\n",
    "\n",
    "# Print the result\n",
    "print(\"Documents with age greater than 30:\")\n",
    "for document in cursor:\n",
    "    print(document)\n",
    "\n",
    "# Close the MongoDB connection\n",
    "client.close()\n",
    "\n",
    "'''"
   ]
  },
  {
   "cell_type": "code",
   "execution_count": 12,
   "metadata": {},
   "outputs": [],
   "source": [
    "#Q6. Explain the sort() method. Give an example to demonstrate sorting in MongoDB."
   ]
  },
  {
   "cell_type": "code",
   "execution_count": 13,
   "metadata": {},
   "outputs": [
    {
     "data": {
      "text/plain": [
       "'   \\n\\nThe sort() method in MongoDB is used to sort the results of a query in ascending or descending order based on one or more fields. It takes one parameter, a document that specifies the fields to sort on and the sort order (ascending or descending).\\n\\nHere\\'s an example to demonstrate sorting in MongoDB using the sort() method:\\n\\npython\\nCopy code\\nimport pymongo\\n\\n# Replace these values with your MongoDB connection string and database name\\nmongo_uri = \"your_mongo_connection_string\"\\ndatabase_name = \"your_database_name\"\\ncollection_name = \"your_collection_name\"\\n\\n# Connect to MongoDB\\nclient = pymongo.MongoClient(mongo_uri)\\n\\n# Access or create a database\\ndatabase = client[database_name]\\n\\n# Create a collection (if it doesn\\'t exist)\\ncollection = database[collection_name]\\n\\n# Insert some sample data (if not already present)\\nsample_data = [\\n    {\"name\": \"John\", \"age\": 25, \"city\": \"New York\"},\\n    {\"name\": \"Alice\", \"age\": 30, \"city\": \"San Francisco\"},\\n    {\"name\": \"Bob\", \"age\": 35, \"city\": \"Los Angeles\"}\\n]\\ncollection.insert_many(sample_data)\\n\\n# Perform a find query with sorting\\nquery = {}  # Retrieve all documents\\nsort_order = [(\"age\", pymongo.ASCENDING)]  # Sort by age in ascending order\\ncursor = collection.find(query).sort(sort_order)\\n\\n# Print the result\\nprint(\"Documents sorted by age in ascending order:\")\\nfor document in cursor:\\n    print(document)\\n\\n# Close the MongoDB connection\\nclient.close()\\n'"
      ]
     },
     "execution_count": 13,
     "metadata": {},
     "output_type": "execute_result"
    }
   ],
   "source": [
    "'''   \n",
    "\n",
    "The sort() method in MongoDB is used to sort the results of a query in ascending or descending order based on one or more fields. It takes one parameter, a document that specifies the fields to sort on and the sort order (ascending or descending).\n",
    "\n",
    "Here's an example to demonstrate sorting in MongoDB using the sort() method:\n",
    "\n",
    "python\n",
    "Copy code\n",
    "import pymongo\n",
    "\n",
    "# Replace these values with your MongoDB connection string and database name\n",
    "mongo_uri = \"your_mongo_connection_string\"\n",
    "database_name = \"your_database_name\"\n",
    "collection_name = \"your_collection_name\"\n",
    "\n",
    "# Connect to MongoDB\n",
    "client = pymongo.MongoClient(mongo_uri)\n",
    "\n",
    "# Access or create a database\n",
    "database = client[database_name]\n",
    "\n",
    "# Create a collection (if it doesn't exist)\n",
    "collection = database[collection_name]\n",
    "\n",
    "# Insert some sample data (if not already present)\n",
    "sample_data = [\n",
    "    {\"name\": \"John\", \"age\": 25, \"city\": \"New York\"},\n",
    "    {\"name\": \"Alice\", \"age\": 30, \"city\": \"San Francisco\"},\n",
    "    {\"name\": \"Bob\", \"age\": 35, \"city\": \"Los Angeles\"}\n",
    "]\n",
    "collection.insert_many(sample_data)\n",
    "\n",
    "# Perform a find query with sorting\n",
    "query = {}  # Retrieve all documents\n",
    "sort_order = [(\"age\", pymongo.ASCENDING)]  # Sort by age in ascending order\n",
    "cursor = collection.find(query).sort(sort_order)\n",
    "\n",
    "# Print the result\n",
    "print(\"Documents sorted by age in ascending order:\")\n",
    "for document in cursor:\n",
    "    print(document)\n",
    "\n",
    "# Close the MongoDB connection\n",
    "client.close()\n",
    "'''"
   ]
  },
  {
   "cell_type": "code",
   "execution_count": 14,
   "metadata": {},
   "outputs": [],
   "source": [
    "#Q7. Explain why delete_one(), delete_many(), and drop() is used."
   ]
  },
  {
   "cell_type": "code",
   "execution_count": 15,
   "metadata": {},
   "outputs": [
    {
     "data": {
      "text/plain": [
       "'In MongoDB, the delete_one(), delete_many(), and drop() methods are used for removing documents or collections from a database. Here\\'s an explanation of each:\\n\\ndelete_one() Method:\\n\\nPurpose: Deletes a single document that matches the specified filter criteria.\\nSyntax:\\npython\\nCopy code\\ncollection.delete_one(filter)\\nExample:\\npython\\nCopy code\\n# Delete a document where the age is 25\\ncollection.delete_one({\"age\": 25})\\ndelete_many() Method:\\n\\nPurpose: Deletes all documents that match the specified filter criteria.\\nSyntax:\\npython\\nCopy code\\ncollection.delete_many(filter)\\nExample:\\npython\\nCopy code\\n# Delete all documents where the city is \"New York\"\\ncollection.delete_many({\"city\": \"New York\"})\\ndrop() Method:\\n\\nPurpose: Removes an entire collection from the database.\\nSyntax:\\npython\\nCopy code\\ncollection.drop()\\nExample:\\npython\\nCopy code\\n# Drop (delete) the entire collection\\ncollection.drop()\\nUse Cases:\\n\\ndelete_one() and delete_many():\\n\\nThese methods are suitable when you want to remove specific documents based on a defined filter. For example, deleting a single user\\'s record or removing all records that match a certain condition.\\nThey allow for targeted removal of data while leaving the collection and other documents intact.\\ndrop():\\n\\nThis method is more drastic as it removes the entire collection, including all documents and indexes within that collection. It\\'s useful when you want to start fresh with an empty collection or if you want to remove a collection completely.\\nUse with caution, as it is a non-reversible action, and dropping a collection will permanently delete all data stored in it.\"\\n'"
      ]
     },
     "execution_count": 15,
     "metadata": {},
     "output_type": "execute_result"
    }
   ],
   "source": [
    "'''In MongoDB, the delete_one(), delete_many(), and drop() methods are used for removing documents or collections from a database. Here's an explanation of each:\n",
    "\n",
    "delete_one() Method:\n",
    "\n",
    "Purpose: Deletes a single document that matches the specified filter criteria.\n",
    "Syntax:\n",
    "python\n",
    "Copy code\n",
    "collection.delete_one(filter)\n",
    "Example:\n",
    "python\n",
    "Copy code\n",
    "# Delete a document where the age is 25\n",
    "collection.delete_one({\"age\": 25})\n",
    "delete_many() Method:\n",
    "\n",
    "Purpose: Deletes all documents that match the specified filter criteria.\n",
    "Syntax:\n",
    "python\n",
    "Copy code\n",
    "collection.delete_many(filter)\n",
    "Example:\n",
    "python\n",
    "Copy code\n",
    "# Delete all documents where the city is \"New York\"\n",
    "collection.delete_many({\"city\": \"New York\"})\n",
    "drop() Method:\n",
    "\n",
    "Purpose: Removes an entire collection from the database.\n",
    "Syntax:\n",
    "python\n",
    "Copy code\n",
    "collection.drop()\n",
    "Example:\n",
    "python\n",
    "Copy code\n",
    "# Drop (delete) the entire collection\n",
    "collection.drop()\n",
    "Use Cases:\n",
    "\n",
    "delete_one() and delete_many():\n",
    "\n",
    "These methods are suitable when you want to remove specific documents based on a defined filter. For example, deleting a single user's record or removing all records that match a certain condition.\n",
    "They allow for targeted removal of data while leaving the collection and other documents intact.\n",
    "drop():\n",
    "\n",
    "This method is more drastic as it removes the entire collection, including all documents and indexes within that collection. It's useful when you want to start fresh with an empty collection or if you want to remove a collection completely.\n",
    "Use with caution, as it is a non-reversible action, and dropping a collection will permanently delete all data stored in it.\"\n",
    "'''"
   ]
  },
  {
   "cell_type": "code",
   "execution_count": null,
   "metadata": {},
   "outputs": [],
   "source": []
  }
 ],
 "metadata": {
  "kernelspec": {
   "display_name": "Python 3",
   "language": "python",
   "name": "python3"
  },
  "language_info": {
   "codemirror_mode": {
    "name": "ipython",
    "version": 3
   },
   "file_extension": ".py",
   "mimetype": "text/x-python",
   "name": "python",
   "nbconvert_exporter": "python",
   "pygments_lexer": "ipython3",
   "version": "3.11.7"
  }
 },
 "nbformat": 4,
 "nbformat_minor": 2
}
